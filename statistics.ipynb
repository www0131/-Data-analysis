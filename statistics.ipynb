{
 "cells": [
  {
   "cell_type": "code",
   "execution_count": 1,
   "metadata": {},
   "outputs": [],
   "source": [
    "import numpy as np\n",
    "import pandas as pd\n",
    "import matplotlib.pyplot as plt\n",
    "import random as rand\n",
    "import copy"
   ]
  },
  {
   "cell_type": "code",
   "execution_count": 3,
   "metadata": {},
   "outputs": [],
   "source": [
    "def getData(path, col, point, flag = 1):\n",
    "\n",
    "    if flag == 1:\n",
    "        f = open(path, \"r\")\n",
    "        lines = f.readlines()\n",
    "\n",
    "        a = [[] for i in range (0,col)]\n",
    "\n",
    "        for line in lines:\n",
    "            item = line.split(point)\n",
    "            for i in range (0, col):\n",
    "                a[i].append(item[i])\n",
    "                \n",
    "    elif flag == 2:\n",
    "        f = open(path, \"r\")\n",
    "        lines = f.readlines()\n",
    "\n",
    "        a = [[[]for j in range (0, col)] for i in range (0,20)]\n",
    "        \n",
    "        index = 0\n",
    "\n",
    "        for line in lines:\n",
    "            if line.find('a') != -1:\n",
    "                index += 1\n",
    "                continue;\n",
    "            else:\n",
    "                item = line.split(point)\n",
    "                for i in range (0, col):\n",
    "                    a[index][i].append(item[i])\n",
    "                    \n",
    "    elif flag == 3:\n",
    "        f = open(path, \"r\")\n",
    "        lines = f.readlines()\n",
    "        \n",
    "        a = [[], []]\n",
    "        \n",
    "        for line in lines:\n",
    "            if line.find('a') != -1:\n",
    "                item = line.replace(\"a\", \"\")\n",
    "                a[0].append(item)\n",
    "            else:\n",
    "                a[1].append(line)\n",
    "        \n",
    "    return a\n",
    "    "
   ]
  },
  {
   "cell_type": "code",
   "execution_count": 6,
   "metadata": {},
   "outputs": [
    {
     "ename": "FileNotFoundError",
     "evalue": "[Errno 2] No such file or directory: 'C:/Users/JeongWooSeok/Documents/Constrained-Projective-Dynamics/GenPD/GenPD/sphere.txt'",
     "output_type": "error",
     "traceback": [
      "\u001b[1;31m---------------------------------------------------------------------------\u001b[0m",
      "\u001b[1;31mFileNotFoundError\u001b[0m                         Traceback (most recent call last)",
      "\u001b[1;32m<ipython-input-6-706b661ee0a9>\u001b[0m in \u001b[0;36m<module>\u001b[1;34m\u001b[0m\n\u001b[0;32m      1\u001b[0m \u001b[0mfilePath\u001b[0m \u001b[1;33m=\u001b[0m \u001b[1;34m\"C:/Users/JeongWooSeok/Documents/Constrained-Projective-Dynamics/GenPD/GenPD/\"\u001b[0m\u001b[1;33m\u001b[0m\u001b[1;33m\u001b[0m\u001b[0m\n\u001b[0;32m      2\u001b[0m \u001b[1;33m\u001b[0m\u001b[0m\n\u001b[1;32m----> 3\u001b[1;33m \u001b[0msphere\u001b[0m \u001b[1;33m=\u001b[0m \u001b[0mgetData\u001b[0m\u001b[1;33m(\u001b[0m\u001b[0mfilePath\u001b[0m \u001b[1;33m+\u001b[0m \u001b[1;34m\"sphere.txt\"\u001b[0m\u001b[1;33m,\u001b[0m \u001b[1;36m2\u001b[0m\u001b[1;33m,\u001b[0m \u001b[1;34m\"\\t\"\u001b[0m\u001b[1;33m)\u001b[0m\u001b[1;33m\u001b[0m\u001b[1;33m\u001b[0m\u001b[0m\n\u001b[0m\u001b[0;32m      4\u001b[0m \u001b[0mcube\u001b[0m \u001b[1;33m=\u001b[0m \u001b[0mgetData\u001b[0m\u001b[1;33m(\u001b[0m\u001b[0mfilePath\u001b[0m \u001b[1;33m+\u001b[0m \u001b[1;34m\"cube.txt\"\u001b[0m\u001b[1;33m,\u001b[0m \u001b[1;36m2\u001b[0m\u001b[1;33m,\u001b[0m \u001b[1;34m\"\\t\"\u001b[0m\u001b[1;33m)\u001b[0m\u001b[1;33m\u001b[0m\u001b[1;33m\u001b[0m\u001b[0m\n\u001b[0;32m      5\u001b[0m \u001b[0mhippo\u001b[0m \u001b[1;33m=\u001b[0m \u001b[0mgetData\u001b[0m\u001b[1;33m(\u001b[0m\u001b[0mfilePath\u001b[0m \u001b[1;33m+\u001b[0m \u001b[1;34m\"hippo.txt\"\u001b[0m\u001b[1;33m,\u001b[0m \u001b[1;36m2\u001b[0m\u001b[1;33m,\u001b[0m \u001b[1;34m\"\\t\"\u001b[0m\u001b[1;33m)\u001b[0m\u001b[1;33m\u001b[0m\u001b[1;33m\u001b[0m\u001b[0m\n",
      "\u001b[1;32m<ipython-input-5-6ee5c571dd7e>\u001b[0m in \u001b[0;36mgetData\u001b[1;34m(path, col, point, flag)\u001b[0m\n\u001b[0;32m      2\u001b[0m \u001b[1;33m\u001b[0m\u001b[0m\n\u001b[0;32m      3\u001b[0m     \u001b[1;32mif\u001b[0m \u001b[0mflag\u001b[0m \u001b[1;33m==\u001b[0m \u001b[1;36m1\u001b[0m\u001b[1;33m:\u001b[0m\u001b[1;33m\u001b[0m\u001b[1;33m\u001b[0m\u001b[0m\n\u001b[1;32m----> 4\u001b[1;33m         \u001b[0mf\u001b[0m \u001b[1;33m=\u001b[0m \u001b[0mopen\u001b[0m\u001b[1;33m(\u001b[0m\u001b[0mpath\u001b[0m\u001b[1;33m,\u001b[0m \u001b[1;34m\"r\"\u001b[0m\u001b[1;33m)\u001b[0m\u001b[1;33m\u001b[0m\u001b[1;33m\u001b[0m\u001b[0m\n\u001b[0m\u001b[0;32m      5\u001b[0m         \u001b[0mlines\u001b[0m \u001b[1;33m=\u001b[0m \u001b[0mf\u001b[0m\u001b[1;33m.\u001b[0m\u001b[0mreadlines\u001b[0m\u001b[1;33m(\u001b[0m\u001b[1;33m)\u001b[0m\u001b[1;33m\u001b[0m\u001b[1;33m\u001b[0m\u001b[0m\n\u001b[0;32m      6\u001b[0m \u001b[1;33m\u001b[0m\u001b[0m\n",
      "\u001b[1;31mFileNotFoundError\u001b[0m: [Errno 2] No such file or directory: 'C:/Users/JeongWooSeok/Documents/Constrained-Projective-Dynamics/GenPD/GenPD/sphere.txt'"
     ]
    }
   ],
   "source": [
    "filePath = \"C:/Users/JeongWooSeok/Documents/Constrained-Projective-Dynamics/GenPD/GenPD/\"\n",
    "\n",
    "sphere = getData(filePath + \"sphere.txt\", 2, \"\\t\") # 200 lines\n",
    "cube = getData(filePath + \"cube.txt\", 2, \"\\t\") # 200 lines\n",
    "hippo = getData(filePath + \"hippo.txt\", 2, \"\\t\") # 200 lines\n",
    "torus = getData(filePath + \"torus.txt\", 2, \"\\t\") # 200 lines\n",
    "cloth = getData(filePath + \"cloth.txt\", 2, \"\\t\") # 200 lines\n",
    "\n",
    "sphere[0] = list(map(int, sphere[0]))\n",
    "sphere[1] = list(map(int, sphere[1]))\n",
    "\n",
    "cube[0] = list(map(int, cube[0]))\n",
    "cube[1] = list(map(int, cube[1]))\n",
    "\n",
    "hippo[0] = list(map(int, hippo[0]))\n",
    "hippo[1] = list(map(int, hippo[1]))\n",
    "\n",
    "torus[0] = list(map(int, torus[0]))\n",
    "torus[1] = list(map(int, torus[1]))\n",
    "\n",
    "cloth[0] = list(map(int, cloth[0]))\n",
    "cloth[1] = list(map(int, cloth[1]))\n",
    "\n",
    "sumData = [sum(sphere[0]), sum(sphere[1]),\n",
    "           sum(cube[0]), sum(cube[1]),\n",
    "           sum(hippo[0]), sum(hippo[1]),\n",
    "           sum(torus[0]), sum(torus[1]),\n",
    "           sum(cloth[0]), sum(cloth[1])]\n",
    "\n",
    "\n",
    "for i in range(0, 10):\n",
    "    sumData[i] = sumData[i] / 1000000\n",
    "    \n",
    "dummyDataForOurs = copy.deepcopy(sumData)\n",
    "dummyDataForFEPR = copy.deepcopy(sumData)\n",
    "\n",
    "overHeadOurs = []\n",
    "overHeadFEPR = []\n",
    "\n",
    "\n",
    "for i in range(5):\n",
    "    overHeadOurs.append(rand.randrange(10, 30))\n",
    "    overHeadFEPR.append(rand.randrange(50, 100))\n",
    "\n",
    "## Overhead 는 getData에서 구현\n",
    "\n",
    "testData = getData(filePath + \"test.txt\", 2, \"\\t\", 2)\n",
    "\n",
    "testData[0] = list(map(float, testData[0]))\n",
    "testData[1] = list(map(int, testData[1]))\n",
    "    \n",
    "    \n",
    "dataRatio = [sumData[0]/sumData[1],\n",
    "             sumData[2]/sumData[3],\n",
    "             sumData[3]/sumData[4],\n",
    "             sumData[5]/sumData[6],\n",
    "             sumData[7]/sumData[8]]"
   ]
  },
  {
   "cell_type": "code",
   "execution_count": 1,
   "metadata": {},
   "outputs": [
    {
     "ename": "NameError",
     "evalue": "name 'np' is not defined",
     "output_type": "error",
     "traceback": [
      "\u001b[1;31m---------------------------------------------------------------------------\u001b[0m",
      "\u001b[1;31mNameError\u001b[0m                                 Traceback (most recent call last)",
      "\u001b[1;32m<ipython-input-1-18528689c681>\u001b[0m in \u001b[0;36m<module>\u001b[1;34m\u001b[0m\n\u001b[1;32m----> 1\u001b[1;33m \u001b[0mx\u001b[0m \u001b[1;33m=\u001b[0m \u001b[0mnp\u001b[0m\u001b[1;33m.\u001b[0m\u001b[0marange\u001b[0m\u001b[1;33m(\u001b[0m\u001b[1;36m0\u001b[0m\u001b[1;33m,\u001b[0m \u001b[1;36m20\u001b[0m\u001b[1;33m)\u001b[0m\u001b[1;33m\u001b[0m\u001b[1;33m\u001b[0m\u001b[0m\n\u001b[0m\u001b[0;32m      2\u001b[0m \u001b[1;33m\u001b[0m\u001b[0m\n\u001b[0;32m      3\u001b[0m \u001b[0moverHeadFEPR\u001b[0m\u001b[1;33m[\u001b[0m\u001b[1;36m1\u001b[0m\u001b[1;33m]\u001b[0m \u001b[1;33m=\u001b[0m \u001b[0msum\u001b[0m\u001b[1;33m(\u001b[0m\u001b[0mtestData\u001b[0m\u001b[1;33m[\u001b[0m\u001b[1;36m1\u001b[0m\u001b[1;33m]\u001b[0m\u001b[1;33m)\u001b[0m\u001b[1;33m/\u001b[0m\u001b[1;36m1000000\u001b[0m \u001b[1;31m#temporary code\u001b[0m\u001b[1;33m\u001b[0m\u001b[1;33m\u001b[0m\u001b[0m\n\u001b[0;32m      4\u001b[0m \u001b[1;33m\u001b[0m\u001b[0m\n\u001b[0;32m      5\u001b[0m \u001b[0mexample\u001b[0m \u001b[1;33m=\u001b[0m \u001b[1;33m[\u001b[0m\u001b[1;34m'sphere'\u001b[0m\u001b[1;33m,\u001b[0m \u001b[1;34m'cube'\u001b[0m\u001b[1;33m,\u001b[0m \u001b[1;34m'hippo'\u001b[0m\u001b[1;33m,\u001b[0m \u001b[1;34m'torus'\u001b[0m\u001b[1;33m,\u001b[0m \u001b[1;34m'cloth'\u001b[0m\u001b[1;33m]\u001b[0m\u001b[1;33m\u001b[0m\u001b[1;33m\u001b[0m\u001b[0m\n",
      "\u001b[1;31mNameError\u001b[0m: name 'np' is not defined"
     ]
    }
   ],
   "source": [
    "x = np.arange(0, 20)\n",
    "\n",
    "overHeadFEPR[1] = sum(testData[1])/1000000 #temporary code\n",
    "\n",
    "example = ['sphere', 'cube', 'hippo', 'torus', 'cloth']\n",
    "method = ['PD', 'Ours', 'FEPR']\n",
    "\n",
    "name = []\n",
    "\n",
    "for word in example:\n",
    "    for j in range(4):\n",
    "        if j == 3:\n",
    "            name.append('')\n",
    "        else:\n",
    "            name.append(word + method[j])\n",
    "\n",
    "            \n",
    "pitColor = ['tomato', 'cornflowerblue', 'lightgreen', 'violet']            \n",
    "        \n",
    "for w in range(3):\n",
    "    if w == 0: # PD\n",
    "        for i in range(5):\n",
    "            if i == 0:\n",
    "                plt.bar(i * 4, sumData[i * 2], width = 0.25, color = pitColor[0], label = 'Global solve')\n",
    "            else:\n",
    "                plt.bar(i * 4, sumData[i * 2], width = 0.25, color = pitColor[0])\n",
    "        for i in range(1,6):\n",
    "            if i == 1:\n",
    "                plt.bar((i - 1) * 4, sumData[i * 2 - 1], width = 0.25, color = pitColor[1], bottom = sumData[(i - 1) * 2], label = 'Local solve')\n",
    "            else:\n",
    "                plt.bar((i - 1) * 4, sumData[i * 2 - 1], width = 0.25, bottom = sumData[(i - 1) * 2], color = pitColor[1])\n",
    "                \n",
    "    elif w == 1: # ours\n",
    "        for i in range(5):\n",
    "            if i == 0:\n",
    "                plt.bar(i * 4 + 1, dummyDataForOurs[i * 2], width = 0.25, color = pitColor[0])\n",
    "                plt.bar(i * 4 + 1, overHeadOurs[i], width = 0.25, bottom = dummyDataForOurs[i * 2 + 1] + dummyDataForOurs[i * 2], color = pitColor[2], label = 'Ours Overhead') #ours overhead\n",
    "            else:\n",
    "                plt.bar(i * 4 + 1, dummyDataForOurs[i * 2], width = 0.25, color = pitColor[0])\n",
    "                plt.bar(i * 4 + 1, overHeadOurs[i], width = 0.25, bottom = dummyDataForOurs[i * 2 + 1] + dummyDataForOurs[i * 2], color = pitColor[2]) #ours overhead\n",
    "        for i in range(1,6): \n",
    "            plt.bar((i - 1) * 4 + 1, dummyDataForOurs[i * 2 - 1], width = 0.25, bottom = dummyDataForOurs[(i - 1) * 2], color = pitColor[1])\n",
    "            \n",
    "    elif w == 2: # FEPR\n",
    "        for i in range(5):\n",
    "            if i == 0:\n",
    "                plt.bar(i * 4 + 2, dummyDataForFEPR[i * 2], width = 0.25, color = pitColor[0])\n",
    "                plt.bar(i * 4 + 2, overHeadFEPR[i], width = 0.25, bottom = dummyDataForFEPR[i * 2 + 1] + dummyDataForFEPR[i * 2], color = pitColor[3], label = 'FEPR Overhead') #FEPR overhead\n",
    "            else:\n",
    "                plt.bar(i * 4 + 2, dummyDataForFEPR[i * 2], width = 0.25, color = pitColor[0])\n",
    "                plt.bar(i * 4 + 2, overHeadFEPR[i], width = 0.25, bottom = dummyDataForFEPR[i * 2 + 1] + dummyDataForFEPR[i * 2], color = pitColor[3]) #FEPR overhead\n",
    "        for i in range(1,6):\n",
    "            plt.bar((i - 1) * 4 + 2, dummyDataForFEPR[i * 2 - 1], width = 0.25, bottom = dummyDataForFEPR[(i - 1) * 2], color = pitColor[1])\n",
    "\n",
    "csfont = {'fontname':'times new roman'}\n",
    "    \n",
    "plt.xticks(x, name, **csfont)\n",
    "plt.ylabel('Overhead(ms)', **csfont)\n",
    "plt.legend(loc='upper right')\n",
    "plt.axis([-1, 20, 0, 1000])\n",
    "\n",
    "plt.rcParams[\"figure.figsize\"] = (16, 16)\n",
    "plt.savefig('C:/Users/JeongWooSeok/Desktop/test.png', dpi=200)\n",
    "plt.show()\n",
    "\n",
    "print(\"전체비 A/B:\" + str(sum(dataRatio)/4))\n",
    "\n"
   ]
  },
  {
   "cell_type": "code",
   "execution_count": null,
   "metadata": {},
   "outputs": [],
   "source": []
  },
  {
   "cell_type": "code",
   "execution_count": 136,
   "metadata": {},
   "outputs": [
    {
     "name": "stdout",
     "output_type": "stream",
     "text": [
      "1\n",
      "123\n",
      " 123\n",
      "\n"
     ]
    }
   ],
   "source": [
    "a = \"123\\n a123\\n\"\n",
    "\n",
    "b = a.split(\"\\n\")\n",
    "\n",
    "#print(b)\n",
    "print(a[a.find('a') + 1])\n",
    "\n",
    "#a = a.replace(a[a.find('a')],'')\n",
    "a = a[:a.find('a')] + a[a.find('a')+1:] # a 랑 그 뒤 하나 제거\n",
    "\n",
    "print(a)\n",
    "\n",
    "\n",
    "#find는 문자열 없으면 -1 반환"
   ]
  },
  {
   "cell_type": "code",
   "execution_count": 8,
   "metadata": {},
   "outputs": [],
   "source": [
    "testData = getData(filePath + \"test.txt\", 2, \"\\t\", 2)\n",
    "\n",
    "for i in range(20):\n",
    "    testData[i][0] = list(map(float, testData[i][0]))\n",
    "    testData[i][1] = list(map(int, testData[i][1]))\n",
    "    \n",
    "\n",
    "#sumTime = sum(testData[1])/1000000\n"
   ]
  },
  {
   "cell_type": "code",
   "execution_count": 15,
   "metadata": {},
   "outputs": [
    {
     "data": {
      "image/png": "[encoded data removed]",
      "text/plain": [
       "<Figure size 432x288 with 1 Axes>"
      ]
     },
     "metadata": {
      "needs_background": "light"
     },
     "output_type": "display_data"
    }
   ],
   "source": [
    "x = np.arange(0, 11)\n",
    "\n",
    "\n",
    "sumLoss = np.zeros(10)\n",
    "\n",
    "for i in range(20):\n",
    "    plt.plot([0,1,2,3,4,5,6,7,8,9], testData[i][0][:10])\n",
    "\n",
    "\n",
    "    \n",
    "plt.axis([-1, 10, 0, 20000])    \n",
    "plt.savefig('C:/Users/JeongWooSeok/Desktop/test2.png', dpi=200)\n",
    "plt.show()"
   ]
  },
  {
   "cell_type": "code",
   "execution_count": 25,
   "metadata": {},
   "outputs": [
    {
     "name": "stdout",
     "output_type": "stream",
     "text": [
      "[[12746800], [11675700]]\n"
     ]
    }
   ],
   "source": [
    "CPDOverheadData = getData(\"C:/Users/JeongWooSeok/Documents/Constrained-Projective-Dynamics/GenPD/GenPD/CPDOverhead.txt\",1, 0,3)\n",
    "\n",
    "CPDOverheadData[0] = list(map(int, CPDOverheadData[0]))\n",
    "CPDOverheadData[1] = list(map(int, CPDOverheadData[1]))\n",
    "\n",
    "sumCPDOverhead = [[sum(CPDOverheadData[0])], \n",
    "                  [sum(CPDOverheadData[1])]]\n",
    "\n",
    "print(sumCPDOverhead)"
   ]
  },
  {
   "cell_type": "code",
   "execution_count": null,
   "metadata": {},
   "outputs": [],
   "source": []
  }
 ],
 "metadata": {
  "kernelspec": {
   "display_name": "Python 3",
   "language": "python",
   "name": "python3"
  },
  "language_info": {
   "codemirror_mode": {
    "name": "ipython",
    "version": 3
   },
   "file_extension": ".py",
   "mimetype": "text/x-python",
   "name": "python",
   "nbconvert_exporter": "python",
   "pygments_lexer": "ipython3",
   "version": "3.8.5"
  }
 },
 "nbformat": 4,
 "nbformat_minor": 4
}
